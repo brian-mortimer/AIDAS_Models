{
 "cells": [
  {
   "cell_type": "code",
   "execution_count": 5,
   "metadata": {},
   "outputs": [],
   "source": [
    "from tflite_support import metadata as _metadata\n",
    "from tflite_support import metadata_schema_py_generated as _metadata_fb"
   ]
  },
  {
   "cell_type": "code",
   "execution_count": 2,
   "metadata": {},
   "outputs": [],
   "source": [
    "# Path to the .tflite model file\n",
    "tflite_model_path = 'C:/Users/morti/Desktop/FYP/ai_driver_assistant_cv/Models/Traffic_Sign_Detection_Model_V4/traffic_sign_detection_model_v4.tflite'\n",
    "# Path to the labels.txt file\n",
    "labels_file_path = 'C:/Users/morti/Desktop/FYP/ai_driver_assistant_cv/Models/Traffic_Sign_Detection_Model_V4/traffic_sign_detection_model_v4_labels.txt'\n",
    "# Path to the metadata.json file\n",
    "metadata_file_path =  'C:/Users/morti/Desktop/FYP/ai_driver_assistant_cv/Models/Traffic_Sign_Detection_Model_V4/traffic_sign_detection_model_v4_metadata.json'"
   ]
  },
  {
   "cell_type": "code",
   "execution_count": 10,
   "metadata": {},
   "outputs": [],
   "source": [
    "# Load the metadata and labels files\n",
    "with open(metadata_file_path, 'r') as json_file:\n",
    "    metadata_json = json_file.read()\n",
    "\n",
    "with open(labels_file_path, 'r') as label_file:\n",
    "    labels = label_file.read().splitlines()"
   ]
  },
  {
   "cell_type": "code",
   "execution_count": 4,
   "metadata": {},
   "outputs": [
    {
     "ename": "AttributeError",
     "evalue": "module 'tensorflow_lite_support.metadata.python.metadata' has no attribute 'MetadataWriter'",
     "output_type": "error",
     "traceback": [
      "\u001b[1;31m---------------------------------------------------------------------------\u001b[0m",
      "\u001b[1;31mAttributeError\u001b[0m                            Traceback (most recent call last)",
      "\u001b[1;32mc:\\Users\\morti\\Desktop\\FYP\\ai_driver_assistant_cv\\MediaPipeApplyMetaData.ipynb Cell 4\u001b[0m line \u001b[0;36m2\n\u001b[0;32m      <a href='vscode-notebook-cell:/c%3A/Users/morti/Desktop/FYP/ai_driver_assistant_cv/MediaPipeApplyMetaData.ipynb#W2sZmlsZQ%3D%3D?line=0'>1</a>\u001b[0m \u001b[39m# Initialize the writer with the model path\u001b[39;00m\n\u001b[1;32m----> <a href='vscode-notebook-cell:/c%3A/Users/morti/Desktop/FYP/ai_driver_assistant_cv/MediaPipeApplyMetaData.ipynb#W2sZmlsZQ%3D%3D?line=1'>2</a>\u001b[0m writer \u001b[39m=\u001b[39m _metadata\u001b[39m.\u001b[39;49mMetadataWriter\u001b[39m.\u001b[39mcreate_for_inference(\n\u001b[0;32m      <a href='vscode-notebook-cell:/c%3A/Users/morti/Desktop/FYP/ai_driver_assistant_cv/MediaPipeApplyMetaData.ipynb#W2sZmlsZQ%3D%3D?line=2'>3</a>\u001b[0m     model_buffer\u001b[39m=\u001b[39m_metadata_fb\u001b[39m.\u001b[39mModelT(), \u001b[39m# You need to load your TFLite model here\u001b[39;00m\n\u001b[0;32m      <a href='vscode-notebook-cell:/c%3A/Users/morti/Desktop/FYP/ai_driver_assistant_cv/MediaPipeApplyMetaData.ipynb#W2sZmlsZQ%3D%3D?line=3'>4</a>\u001b[0m     input_process_units\u001b[39m=\u001b[39m[], \u001b[39m# Add preprocessing information if any\u001b[39;00m\n\u001b[0;32m      <a href='vscode-notebook-cell:/c%3A/Users/morti/Desktop/FYP/ai_driver_assistant_cv/MediaPipeApplyMetaData.ipynb#W2sZmlsZQ%3D%3D?line=4'>5</a>\u001b[0m     output_process_units\u001b[39m=\u001b[39m[], \u001b[39m# Add postprocessing information if any\u001b[39;00m\n\u001b[0;32m      <a href='vscode-notebook-cell:/c%3A/Users/morti/Desktop/FYP/ai_driver_assistant_cv/MediaPipeApplyMetaData.ipynb#W2sZmlsZQ%3D%3D?line=5'>6</a>\u001b[0m     description\u001b[39m=\u001b[39m\u001b[39m\"\u001b[39m\u001b[39mTraffic Sign Detection Model trained using custom dataset with MediaPipe Framework.\u001b[39m\u001b[39m\"\u001b[39m)\n\u001b[0;32m      <a href='vscode-notebook-cell:/c%3A/Users/morti/Desktop/FYP/ai_driver_assistant_cv/MediaPipeApplyMetaData.ipynb#W2sZmlsZQ%3D%3D?line=7'>8</a>\u001b[0m \u001b[39m# Add metadata and associated files\u001b[39;00m\n\u001b[0;32m      <a href='vscode-notebook-cell:/c%3A/Users/morti/Desktop/FYP/ai_driver_assistant_cv/MediaPipeApplyMetaData.ipynb#W2sZmlsZQ%3D%3D?line=8'>9</a>\u001b[0m writer\u001b[39m.\u001b[39mset_associated_files([labels_file_path])\n",
      "\u001b[1;31mAttributeError\u001b[0m: module 'tensorflow_lite_support.metadata.python.metadata' has no attribute 'MetadataWriter'"
     ]
    }
   ],
   "source": [
    "# Initialize the writer with the model path\n",
    "writer = _metadata.MetadataWriter.create_for_inference(\n",
    "    model_buffer=_metadata_fb.ModelT(), # You need to load your TFLite model here\n",
    "    input_process_units=[], # Add preprocessing information if any\n",
    "    output_process_units=[], # Add postprocessing information if any\n",
    "    description=\"Traffic Sign Detection Model trained using custom dataset with MediaPipe Framework.\")\n",
    "\n",
    "# Add metadata and associated files\n",
    "writer.set_associated_files([labels_file_path])\n",
    "writer.set_description(metadata_json)\n",
    "\n",
    "# Finally, write the metadata to the model\n",
    "writer_utils = _metadata.MetadataWriterUtils(writer.get_metadata_buffer())\n",
    "writer_utils.write_metadata(tflite_model_path)"
   ]
  }
 ],
 "metadata": {
  "kernelspec": {
   "display_name": "ml_env",
   "language": "python",
   "name": "python3"
  },
  "language_info": {
   "codemirror_mode": {
    "name": "ipython",
    "version": 3
   },
   "file_extension": ".py",
   "mimetype": "text/x-python",
   "name": "python",
   "nbconvert_exporter": "python",
   "pygments_lexer": "ipython3",
   "version": "3.9.16"
  }
 },
 "nbformat": 4,
 "nbformat_minor": 2
}
